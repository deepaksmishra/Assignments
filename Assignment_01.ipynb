{
 "cells": [
  {
   "cell_type": "markdown",
   "metadata": {},
   "source": [
    "# 1. What are the differences between operators and values in the following?\n",
    "*\n",
    "'hello'\n",
    "-87.8\n",
    "-\n",
    "/\n",
    "+\n",
    "6\n",
    "\n",
    "ANS: Operators perform special task between two operant.In Python that carry out arithmetic or logical computation. The value that the operator operates on is called the operand.\n",
    "     * => (operator)is the arithmatic operator which perform multiplication between two operatnts.\n",
    "     'hello'=> (value)It's a string value the ' '(inside this characters are written)\n",
    "    -87.8 =>(Value)it's denote the negative floating point value.(the (.) points denote the floating point value between integer number.\n",
    "    - => (operator)It's a substraction arithematic operator  which perform the substraction between two operant.\n",
    "    / => (operator)It's a Division arithematic operator  which perform the division  between two operant.\n",
    "    + => (operator)It's a addition arithematic operator  which perform the addition between two operant.It's also use for concatenation in python.\n",
    "    6=> (value) it's  a integer value.\n",
    "    \n",
    "    \n"
   ]
  },
  {
   "cell_type": "markdown",
   "metadata": {},
   "source": [
    "# 2. What is the difference between string and variable?\n",
    "spam\n",
    "'spam'\n",
    "\n",
    "Ans:\n",
    "    A variable is basically the name of the location in the primary memory of computer. There are certain rules for variable declaration.\n",
    "    A variable can store everything from strings to numbers. \n",
    "    which are :\n",
    "    A variable name must start with a letter or the underscore character.\n",
    "    A variable name cannot start with a number.\n",
    "    A variable name can only contain alpha-numeric characters and underscores (A-z, 0-9, and _ )\n",
    "    Variable names are case-sensitive (age, Age and AGE are three different variables)\n",
    "    (Example : the varaible is assigned by user spam=10 , 10 is the value which is assigned to spam) \n",
    "    A string is the values inside the quotes assigned to a string.\n",
    "    For eg : 'spam' or \"spam\"\n",
    "        The Difference between string is varaible is only one :\n",
    "            Inside string each value is assigned like a character or word \n",
    "            Inside varaible each value has their own memory location\n",
    "            varaible store string but string can't hold varaible\n",
    "            \n"
   ]
  },
  {
   "cell_type": "raw",
   "metadata": {},
   "source": [
    "# 3. Describe three different data forms.\n"
   ]
  },
  {
   "cell_type": "raw",
   "metadata": {},
   "source": [
    "# 4. What makes up an expression? What are the functions of all expressions?"
   ]
  },
  {
   "cell_type": "markdown",
   "metadata": {},
   "source": [
    "# 5. In this chapter, assignment statements such as spam = 10 were added. What's the difference between a declaration and an expression?\n",
    "\n",
    "Ans:\n",
    "An expression is a combination of values, variables, operators, and calls to functions. Expressions need to be evaluated. If you ask Python to print an expression, the interpreter evaluates the expression and displays the result."
   ]
  },
  {
   "cell_type": "markdown",
   "metadata": {},
   "source": [
    "# 6. After running the following code, what does the variable bacon contain?\n",
    "bacon = 22\n",
    "bacon + 1\n",
    "Ans : 23\n"
   ]
  },
  {
   "cell_type": "markdown",
   "metadata": {},
   "source": [
    "# 7. What should the values of the following two terms be?\n",
    "\n",
    "'spam' + 'spamspam'\n",
    "'spam' * 3\n",
    "\n",
    "Ans: 3 times spam(spamspamspam)\n"
   ]
  },
  {
   "cell_type": "markdown",
   "metadata": {},
   "source": [
    "# 8. Why is it that eggs is a true variable name but 100 is not?\n",
    "Ans:\n",
    "    eggs is starting with character which follow rule for variable declaration.\n",
    "    but 100 is denote as the integer value & varaible name can't initialize with number at the starting \n",
    "    That's why eggs is true varaible name but 100 is not.\n",
    "    "
   ]
  },
  {
   "cell_type": "markdown",
   "metadata": {},
   "source": [
    "# 9. Which of the following three functions may be used to convert a value to an integer, a floating-point number, or a string?\n",
    "\n",
    "Ans:\n",
    "    Int() => for converting value to a integer\n",
    "    Float() => for converting value to a Float\n",
    "    str()=> for converting value to a string\n",
    "    \n",
    "Example:\n",
    "    For Integer:\n",
    "    a=1.0\n",
    "    a=int(a)\n",
    "    for Float:\n",
    "        a=1\n",
    "        a=float(a)\n",
    "    for string:\n",
    "        a=123\n",
    "        a=str(a)\n",
    "        \n",
    "        \n",
    "    "
   ]
  },
  {
   "cell_type": "markdown",
   "metadata": {},
   "source": [
    "# 10. What is the error caused by this expression? \n",
    "What would you do about it?\n",
    "'I have eaten ' + 99 + ' burritos.'\n",
    "\n",
    "Ans: \n",
    "    The following code give type error TypeError: can only concatenate str (not \"int\") to str\n",
    "    I just change the value 99 to '99'(converting integer to string using ' ' )"
   ]
  },
  {
   "cell_type": "code",
   "execution_count": null,
   "metadata": {},
   "outputs": [],
   "source": []
  }
 ],
 "metadata": {
  "kernelspec": {
   "display_name": "Python 3",
   "language": "python",
   "name": "python3"
  },
  "language_info": {
   "codemirror_mode": {
    "name": "ipython",
    "version": 3
   },
   "file_extension": ".py",
   "mimetype": "text/x-python",
   "name": "python",
   "nbconvert_exporter": "python",
   "pygments_lexer": "ipython3",
   "version": "3.8.5"
  }
 },
 "nbformat": 4,
 "nbformat_minor": 4
}
