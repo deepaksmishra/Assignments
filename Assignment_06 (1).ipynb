{
 "cells": [
  {
   "cell_type": "code",
   "execution_count": null,
   "metadata": {
    "id": "wUBUQGVVclqr"
   },
   "outputs": [],
   "source": [
    "1. What are escape characters, and how do you use them?\n",
    "Ans:\n",
    "To insert characters that are illegal in a string, use an escape character.\n",
    "\n",
    "An escape character is a backslash \\ followed by the character you want to insert.\n",
    " txt = \"We are the so-called \\\"Vikings\\\" from the north.\" "
   ]
  },
  {
   "cell_type": "code",
   "execution_count": null,
   "metadata": {
    "id": "DpDB8n5Zc8oT"
   },
   "outputs": [],
   "source": [
    "2. What do the escape characters n and t stand for?\n",
    "Ans:\n",
    "In Python strings, the backslash \"\\\" is a special character, also called the \"escape\" character. \n",
    "It is used in representing certain whitespace characters: \"\\t\" is a tab, \"\\n\" is a newline, and \"\\r\" is a carriage return."
   ]
  },
  {
   "cell_type": "code",
   "execution_count": null,
   "metadata": {
    "id": "m43Lu8jAdVYk"
   },
   "outputs": [],
   "source": [
    "3. What is the way to include backslash characters in a string?\n",
    "Ans: Escape sequences allow you to include special characters in strings. \n",
    "To do this, simply add a backslash ( \\ ) before the character you want to escape."
   ]
  },
  {
   "cell_type": "code",
   "execution_count": null,
   "metadata": {
    "id": "EQAqHbqjdi2f"
   },
   "outputs": [],
   "source": [
    "4. The string \"Howl's Moving Castle\" is a correct value. Why isn't the single quote character in the word Howl's not escaped a problem?\n",
    "Ans: Because the whole string is encapsulated by quotes"
   ]
  },
  {
   "cell_type": "code",
   "execution_count": null,
   "metadata": {
    "id": "ak17GpjVd_O6"
   },
   "outputs": [],
   "source": [
    "5. How do you write a string of newlines if you don't want to use the n character?\n",
    "Ans: using end = <character> , which <character> is the character that will be used to separate the lines."
   ]
  },
  {
   "cell_type": "code",
   "execution_count": null,
   "metadata": {
    "colab": {
     "base_uri": "https://localhost:8080/",
     "height": 135
    },
    "id": "aTk96INqeNUu",
    "outputId": "1d21f8ba-7c05-457c-dfe6-6114818e0409"
   },
   "outputs": [],
   "source": [
    "6. What are the values of the given expressions?\n",
    "'Hello, world!'[1]\n",
    "'Hello, world!'[0:5]\n",
    "'Hello, world!'[:5]\n",
    "'Hello, world!'[3:]\n",
    "\n",
    "Ans:'Hello, world!'[1] => 'e'\n",
    "'Hello, world!'[0:5]=>'Hello'\n",
    "'Hello, world!'[:5]=>'Hello'\n",
    "'Hello, world!'[3:]=>'lo, world!'\n"
   ]
  },
  {
   "cell_type": "code",
   "execution_count": null,
   "metadata": {
    "colab": {
     "base_uri": "https://localhost:8080/",
     "height": 36
    },
    "id": "TIrX4kiTe0rB",
    "outputId": "6e75278f-374e-4817-d38c-731e9717559d"
   },
   "outputs": [],
   "source": [
    "7. What are the values of the following expressions?\n",
    "'Hello'.upper()\n",
    "'Hello'.upper().isupper()\n",
    "'Hello'.upper().lower()\n",
    "\n",
    "Ans: 'Hello'.upper()=>'HELLO'\n",
    "'Hello'.upper().isupper()=>'True'\n",
    "'Hello'.upper().lower()=>'hello'\n",
    "\n",
    "\n"
   ]
  },
  {
   "cell_type": "code",
   "execution_count": null,
   "metadata": {
    "id": "68aVXLJJmeY7"
   },
   "outputs": [],
   "source": [
    "8. What are the values of the following expressions?\n",
    "'Remember, remember, the fifth of July.'.split()\n",
    "'-'.join('There can only one.'.split())\n",
    "Ans: 'Remember, remember, the fifth of July.'.split() => ['Remember,', 'remember,', 'the', 'fifth', 'of', 'July.']\n",
    "\n",
    "'-'.join('There can only one.'.split()) => There-can-only-one.\n"
   ]
  },
  {
   "cell_type": "code",
   "execution_count": null,
   "metadata": {
    "id": "-qTI7d6jnvy5"
   },
   "outputs": [],
   "source": [
    "9. What are the methods for right-justifying, left-justifying, and centering a string?\n",
    "Ans: ljust(10, *), rjust(10, *), center(10, *)\n",
    "\n",
    "adds space to side of string, based as interger value of first argument. * indicates a symbol which can be placed instead of whitespace"
   ]
  },
  {
   "cell_type": "code",
   "execution_count": null,
   "metadata": {
    "id": "6oWck6hAn4Ty"
   },
   "outputs": [],
   "source": [
    "10. What is the best way to remove whitespace characters from the start or end?\n",
    "Ans: call the trim() method on your string to remove whitespace from the beginning and end of it. It returns a new string."
   ]
  }
 ],
 "metadata": {
  "colab": {
   "collapsed_sections": [],
   "name": "Assignment_06.ipynb",
   "provenance": []
  },
  "kernelspec": {
   "display_name": "Python 3",
   "language": "python",
   "name": "python3"
  },
  "language_info": {
   "codemirror_mode": {
    "name": "ipython",
    "version": 3
   },
   "file_extension": ".py",
   "mimetype": "text/x-python",
   "name": "python",
   "nbconvert_exporter": "python",
   "pygments_lexer": "ipython3",
   "version": "3.8.5"
  }
 },
 "nbformat": 4,
 "nbformat_minor": 1
}
