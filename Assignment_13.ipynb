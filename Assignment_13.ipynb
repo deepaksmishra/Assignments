{
 "cells": [
  {
   "cell_type": "code",
   "execution_count": null,
   "metadata": {},
   "outputs": [],
   "source": [
    "Assignment no 13\n",
    "\n",
    "1. What advantages do Excel spreadsheets have over CSV spreadsheets?\n",
    "Ans : \n",
    "Excel files can only be read by applications and not on any other systems, application or data platform. CSV file does not need any specific platform to open it can also be opened in a simple text editor and the user can simply read and understand it. Excel consumes more memory than CSV.\n",
    "\n",
    "2.What do you pass to csv.reader() and csv.writer() to create reader and writer objects?\n",
    "Ans : \n",
    "To write to a CSV file in Python, we can use the csv. writer() function. The csv. writer() function returns a writer object that converts the user's data into a delimited string.\n",
    "\n",
    "\n",
    "3. What modes do File objects for reader and writer objects need to be opened in?\n",
    "Ans : open ()\n",
    "In order to open a file for reading or writing purposes, \n",
    "\n",
    "4. What method takes a list argument and writes it to a CSV file?\n",
    "Ans :\n",
    "writerows()\n",
    "\n",
    "\n",
    "5. What do the keyword arguments delimiter and line terminator do?\n",
    "Ans : \n",
    "The delimiter and lineterminator Keyword Arguments\n",
    "\n",
    "The line terminator is the character that comes at the end of a row. By default, the line terminator is a newline. You can change characters to different values by using the delimiter and lineterminator keyword arguments with csv. ... tsv, for tab-separated values.\n",
    "\n",
    "\n",
    "6. What function takes a string of JSON data and returns a Python data structure?\n",
    "Ans :\n",
    "\n",
    "dumps() in Python is a method that converts dictionary objects of Python into JSON string data format.\n",
    "\n",
    "7. What function takes a Python data structure and returns a string of JSON data?\n",
    "\n",
    "Ans :\n",
    "loads() method return Python data structure of JSON string or data."
   ]
  }
 ],
 "metadata": {
  "kernelspec": {
   "display_name": "Python 3",
   "language": "python",
   "name": "python3"
  },
  "language_info": {
   "codemirror_mode": {
    "name": "ipython",
    "version": 3
   },
   "file_extension": ".py",
   "mimetype": "text/x-python",
   "name": "python",
   "nbconvert_exporter": "python",
   "pygments_lexer": "ipython3",
   "version": "3.8.5"
  }
 },
 "nbformat": 4,
 "nbformat_minor": 4
}
