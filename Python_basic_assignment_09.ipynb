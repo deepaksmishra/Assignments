{
 "cells": [
  {
   "cell_type": "code",
   "execution_count": null,
   "metadata": {},
   "outputs": [],
   "source": [
    "1. To what does a relative path refer?\n",
    "Ans: A relative path refers to a location that is relative to a current directory. \n",
    "    Relative paths make use of two special symbols, a dot (.) and a double-dot (..), \n",
    "    which translate into the current directory and the parent directory.\n",
    "    The current directory is sometimes referred to as the root directory."
   ]
  },
  {
   "cell_type": "code",
   "execution_count": null,
   "metadata": {},
   "outputs": [],
   "source": [
    "2. What does an absolute path start with your operating system?\n",
    "Ans : An absolute path is defined as the specifying the location of a file or directory from the root directory(/).\n",
    "    To write an absolute path-name: Start at the root directory ( / ) and work down"
   ]
  },
  {
   "cell_type": "code",
   "execution_count": null,
   "metadata": {},
   "outputs": [],
   "source": [
    "3. What do the functions os.getcwd() and os.chdir() do?\n",
    "Ans:os. getcwd() : CWD stands for Current Working Directory. \n",
    "    This function allows you to see what your current working directory os. chdir(\"path-to-dir\") : Short for CHange DIRectory,\n",
    "    this function allows you to set the current working directory to a path of your choice."
   ]
  },
  {
   "cell_type": "code",
   "execution_count": null,
   "metadata": {},
   "outputs": [],
   "source": [
    "4. What are the . and .. folders?\n",
    "Ans : The single dot . is useful in linux where you want to run an executable in the current directory.\n",
    "      The single dot . is also used if you want to pass the current directory as an argument to a command.\n",
    "      The .. is used to navigate up the hierarchy of the file system. It's useful when you don't want to type \n",
    "        a long path, or when writing a script/program thatdoesn't know where exactly it will be installed but it knows that ../media/ should hold all the images/videos/icons etc."
   ]
  },
  {
   "cell_type": "code",
   "execution_count": null,
   "metadata": {},
   "outputs": [],
   "source": [
    "5. In C:\\bacon\\eggs\\spam.txt, which part is the dir name, and which part is the base name?\n",
    "Ans: c:\\bacon\\eggs\\ : are the directory name  and spam.text is the base name i.e. file name which is located under c:/ directory."
   ]
  },
  {
   "cell_type": "code",
   "execution_count": null,
   "metadata": {},
   "outputs": [],
   "source": [
    "6. What are the three “mode” arguments that can be passed to the open() function?\n",
    "Ans : r : Opens the file in read-only mode. ...\n",
    "rb : Opens the file as read-only in binary format and starts reading from the beginning of the file.\n",
    "r+ : Opens a file for reading and writing, placing the pointer at the beginning of the file."
   ]
  },
  {
   "cell_type": "code",
   "execution_count": null,
   "metadata": {},
   "outputs": [],
   "source": [
    "7. What happens if an existing file is opened in write mode?\n",
    "Ans: If a file with the same name already exists, its contents are discarded and the file is treated as a new empty file."
   ]
  },
  {
   "cell_type": "code",
   "execution_count": null,
   "metadata": {},
   "outputs": [],
   "source": [
    "8. How do you tell the difference between read() and readlines()?\n",
    "Ans: The . read() would treat each character in the file separately\n",
    "     The readline() function, on the other hand, only reads a single line of the file."
   ]
  },
  {
   "cell_type": "code",
   "execution_count": null,
   "metadata": {},
   "outputs": [],
   "source": [
    "9. What data structure does a shelf value resemble?\n",
    "Ans: A shelf value resembles a dictionary value; it has keys and values, along with keys() and values() \n",
    "    methods that work similarly to the dictionary methods of the same names."
   ]
  }
 ],
 "metadata": {
  "kernelspec": {
   "display_name": "Python 3",
   "language": "python",
   "name": "python3"
  },
  "language_info": {
   "codemirror_mode": {
    "name": "ipython",
    "version": 3
   },
   "file_extension": ".py",
   "mimetype": "text/x-python",
   "name": "python",
   "nbconvert_exporter": "python",
   "pygments_lexer": "ipython3",
   "version": "3.8.5"
  }
 },
 "nbformat": 4,
 "nbformat_minor": 4
}
