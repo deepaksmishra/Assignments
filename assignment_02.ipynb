{
 "cells": [
  {
   "cell_type": "markdown",
   "metadata": {},
   "source": [
    "# 1. What are the Boolean data type's two values? How do you go about writing them?\n",
    "Ans :\n",
    "    The boolean data types is True(1) Or false(0) value.it's a build in data type in python.It's used Truth value for 1 and false value for 0.\n",
    "    Example:\n",
    "        x = \"Dkm\"\n",
    "        y = 8\n",
    "        print(bool(x))\n",
    "        print(bool(y))"
   ]
  },
  {
   "cell_type": "markdown",
   "metadata": {},
   "source": [
    "# 2. What are the three different types of Boolean operators?\n",
    "Ans:\n",
    "    Boolean operators form the basis of mathematical sets and database logic. \n",
    "    They connect your search words together to either narrow or broaden your set of results.\n",
    "    The three basic boolean operators are: AND, OR, and NOT.\n",
    "    a=50\n",
    "    b=25\n",
    "    a>40 and b>40\n",
    "    False\n",
    "    a>100 and b<50\n",
    "    False\n",
    "    a==0 and b==0\n",
    "    False\n",
    "    a>0 and b>0\n",
    "    True"
   ]
  },
  {
   "cell_type": "code",
   "execution_count": null,
   "metadata": {},
   "outputs": [],
   "source": [
    "# 3. Make a list of each Boolean operator's truth tables \n",
    "(i.e. every possible combination of Boolean values for the operator and what it evaluate).\n",
    "Ans:\n",
    "    "
   ]
  },
  {
   "cell_type": "markdown",
   "metadata": {},
   "source": [
    "# 4. What are the values of the following expressions?\n",
    "\n",
    "(5 > 4) and (3 == 5)\n",
    "not (5 > 4)\n",
    "(5 > 4) or (3 == 5)\n",
    "not ((5 > 4) or (3 == 5))\n",
    "(True and True) and (True == False)\n",
    "(not False) or (not True)\n",
    "\n",
    "Ans : True"
   ]
  },
  {
   "cell_type": "markdown",
   "metadata": {},
   "source": [
    "# 5. What are the six different types of reference operators?\n",
    "Ans : \n",
    "    "
   ]
  },
  {
   "cell_type": "markdown",
   "metadata": {},
   "source": [
    "# 6. How do you tell the difference between the equal to and assignment operators?\n",
    "Ans: \n",
    "    Assignment operator used for assigning the value to a variable.Constant term cannot be placed on left hand side.\n",
    "    Example: 10=a is invalid for assigning the value.\n",
    "    Equal to is relational or comparison operatorIt is used for comparing two values.\n",
    "    It returns 1 if both the values are equal otherwise returns 0.Constant term can be placed in the left hand side.\n",
    "    Example: 10==10 is valid and returns 1.\n",
    "            10==1 is invalid returns 0."
   ]
  },
  {
   "cell_type": "markdown",
   "metadata": {},
   "source": [
    "# 7. Describe a condition and when you would use one.\n",
    "Ans: This is the ability to test a variable against a value and act in one way if the \n",
    "    condition is met by the variable or another way if not. They are also commonly called by programmers \n",
    "    if statements.To know if a condition is True of False, \n",
    "    we need a new type of data: the booleans. They allow logical operations. A logic statement or \n",
    "    operation can be evaluated to be True or False. \n",
    "    These are the condition:\n",
    "        If.. else ..elif\n",
    "        while\n",
    "        "
   ]
  },
  {
   "cell_type": "markdown",
   "metadata": {},
   "source": [
    "# 8. Recognize the following three blocks in this code:\n",
    "\n",
    "spam = 0\n",
    "if spam == 10: \n",
    "    print('eggs')\n",
    "    if spam > 5: \n",
    "        print('bacon')\n",
    "    else:\n",
    "        print('ham')\n",
    "    print('spam')\n",
    "print('spam')\n",
    "\n",
    "Ans : There are 3 blocks in this code which are :\n",
    "      First If  is performing comparison the spam value with 10\n",
    "      second block of code is performing the spam is greater than 5 condition i.e. if .. else condition.\n",
    "      Third block of code is outer block of if else code which giving output spam in the following code.If none of the condition \n",
    "      satisfy than it execute the outer loop  which are if else.\n",
    "    \n"
   ]
  },
  {
   "cell_type": "markdown",
   "metadata": {},
   "source": [
    "# 9. Create a programme that prints. If 1 is stored in spam, prints Hello; if 2 is stored in spam, prints Howdy; and if 3 is stored in spam, prints Salutations! if there's something else in spam.\n",
    "\n",
    "Ans: spam = int(input(\"Enter the no\"))\n",
    "if spam==1:\n",
    "        print(\"Hello\")\n",
    "elif spam==2:\n",
    "        print(\"Howdy\")\n",
    "elif spam==3:\n",
    "        print(\"Salutations!\")\n",
    "else:\n",
    "   print(\"there's something else in spam\")\n",
    "    \n",
    "    "
   ]
  },
  {
   "cell_type": "markdown",
   "metadata": {},
   "source": [
    "# 10.If your programme is stuck in an endless loop, what keys can you press?\n",
    "Ans : I will press ctrl+c to stop the loop "
   ]
  },
  {
   "cell_type": "markdown",
   "metadata": {},
   "source": [
    "# 11. How can you tell the difference between break and continue?\n",
    "Ans : \n",
    "    Break:\n",
    "     Break is used to terminate the execution of the loop.\n",
    "     It breaks the iteration.\n",
    "     When this statement is executed, control will come out from the loop and executes the statement immediate after loop.\n",
    "     Break is used with loops as well as switch case.\n",
    "    continue:\n",
    "        Continue is not used to terminate the execution of loop\n",
    "        It skips the iteration.\n",
    "        When this statement is executed, it will not come out of the loop but moves/jumps to the next iteration of loop.\n",
    "        Continue is only used in loops, it is not used in switch case.\n"
   ]
  },
  {
   "cell_type": "markdown",
   "metadata": {},
   "source": [
    "# 12. In a for loop, what is the difference between range(10), range(0, 10), and range(0, 10, 1)?\n",
    "Ans :\n",
    "    The range() type returns an immutable sequence of numbers between the given start integer to the stop integer.\n",
    "    Range(10) : Craete the range of number  0-9.\n",
    "    Range(0,10) : It involve two parameter i.e. start & stop so it's create the no between 0 to 9\n",
    "    range(0,10,1): It involve 3 parameter i.e. start , stop  & step size (jump). It's create the no which ranging from 0-9 u  n     sing 1 positive direction step size\n"
   ]
  },
  {
   "cell_type": "markdown",
   "metadata": {},
   "source": [
    "# 13. Using a for loop, write a short programme that prints the numbers 1 to 10 Then,\n",
    "using a while loop, create an identical programme that prints the numbers 1 to 10.\n",
    "Ans: For Loop:\n",
    "        for i in range(0,11):\n",
    "   print(i)\n",
    "     using while loop:\n",
    "        i=0\n",
    "while(i<=10):\n",
    "    print(i)\n",
    "    i += 1"
   ]
  },
  {
   "cell_type": "markdown",
   "metadata": {},
   "source": [
    "# 14. If you had a bacon() function within a spam module, how  would you call it after importing spam?\n",
    "\n",
    "Ans: \n",
    "    from spam import bacon()"
   ]
  },
  {
   "cell_type": "code",
   "execution_count": null,
   "metadata": {},
   "outputs": [],
   "source": []
  },
  {
   "cell_type": "code",
   "execution_count": null,
   "metadata": {},
   "outputs": [],
   "source": []
  },
  {
   "cell_type": "code",
   "execution_count": null,
   "metadata": {},
   "outputs": [],
   "source": [
    "\n"
   ]
  },
  {
   "cell_type": "code",
   "execution_count": null,
   "metadata": {},
   "outputs": [],
   "source": [
    "\n"
   ]
  },
  {
   "cell_type": "code",
   "execution_count": null,
   "metadata": {},
   "outputs": [],
   "source": []
  }
 ],
 "metadata": {
  "kernelspec": {
   "display_name": "Python 3",
   "language": "python",
   "name": "python3"
  },
  "language_info": {
   "codemirror_mode": {
    "name": "ipython",
    "version": 3
   },
   "file_extension": ".py",
   "mimetype": "text/x-python",
   "name": "python",
   "nbconvert_exporter": "python",
   "pygments_lexer": "ipython3",
   "version": "3.8.5"
  }
 },
 "nbformat": 4,
 "nbformat_minor": 4
}
