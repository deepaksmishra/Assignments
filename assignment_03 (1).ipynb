{
 "cells": [
  {
   "cell_type": "markdown",
   "metadata": {},
   "source": [
    "# 1. Why are functions advantageous to have in your programs?\n",
    "Ans: \n",
    "    Functions reduce the need for duplicate code. This makes programs shorter, easier to read, and easier to update.\n",
    "    A function call is what moves the program execution into the function, \n",
    "    and the function call evaluates to the function's return value.\n"
   ]
  },
  {
   "cell_type": "markdown",
   "metadata": {},
   "source": [
    "# 2. When does the code in a function run: when it's specified or when it's called?\n",
    "Ans:\n",
    "   The function contain some specific code which perform that task repeatily whenever it called in program.It's also knows as      resuablity concept.  The functin run when it called not than when it created.\n",
    "\n"
   ]
  },
  {
   "cell_type": "markdown",
   "metadata": {},
   "source": [
    "# 3. What statement creates a function?\n",
    "Ans:The “def” keyword is a statement for defining a function in Python. You start a function with\n",
    "    the def keyword, specify a name followed by a colon (:) sign. The “def” call creates the function\n",
    "    object and assigns it to the name given. \n",
    "    You can further re-assign the same function object to other names."
   ]
  },
  {
   "cell_type": "markdown",
   "metadata": {},
   "source": [
    "# 4. What is the difference between a function and a function call?\n",
    "Ans: A function is a block of code that does a particular operation and returns a result. \n",
    "    It usually accepts inputs as parameters and returns a result. \n",
    "    The parameters are not mandatory. A function call is the code used to pass control to a function.\n"
   ]
  },
  {
   "cell_type": "code",
   "execution_count": null,
   "metadata": {},
   "outputs": [],
   "source": [
    "5. How many global scopes are there in a Python program? How many local scopes?\n",
    "Ans: The scope of a variable in python is that part of the code where it is visible. \n",
    "    Actually, to refer to it, you don’t need to use any prefixes then."
   ]
  },
  {
   "cell_type": "markdown",
   "metadata": {},
   "source": [
    "# 6. What happens to variables in a local scope when the function call returns?\n",
    "Ans: A local variable retains its value until the next time the function is called\n",
    "\n",
    "A local variable becomes undefined after the function call completes\n",
    "\n",
    "The local variable can be used outside the function any time after the function call completes.\n",
    "The local variable can be used outside the function any time after the function call completes."
   ]
  },
  {
   "cell_type": "markdown",
   "metadata": {},
   "source": [
    "# 7. What is the concept of a return value? Is it possible to have a return value in an expression?\n",
    "Return values are just what they sound like —  the values that a function returns when it \n",
    "has completed. You've already met return values \n",
    "a number of times, although you may not have thought about them explicitly."
   ]
  },
  {
   "cell_type": "markdown",
   "metadata": {},
   "source": [
    "# 8. If a function does not have a return statement, what is the return value of a call to that function?\n",
    "ANS:  function in Python is defined with the def keyword. Functions do not have declared return types. A function without an explicit return statement returns None. In the case of no arguments and no return value, the definition is very simple.\n",
    "\n",
    "Calling the function is performed by using the call operator () after the name of the function.\n"
   ]
  },
  {
   "cell_type": "markdown",
   "metadata": {},
   "source": [
    "# 9. How do you make a function variable refer to the global variable?\n",
    "Ans: If I create a global variable in one function, how can I use that variable in another function?\n",
    "We can create a global with the following function:\n",
    "\n",
    "def create_global_variable():\n",
    "    global global_variable # must declare it to be a global first\n",
    "    # modifications are thus reflected on the module's global scope\n",
    "    global_variable = 'Foo' \n",
    "Writing a function does not actually run its code. So we call the create_global_variable function:\n",
    "\n",
    ">>> create_global_variable()\n",
    "Using globals without modification\n",
    "You can just use it, so long as you don't expect to change which object it points to:\n",
    "\n",
    "For example,\n",
    "\n",
    "def use_global_variable():\n",
    "    return global_variable + '!!!'\n",
    "and now we can use the global variable:\n",
    "\n",
    ">>> use_global_variable()\n",
    "'Foo!!!'\n",
    "Modification of the global variable from inside a function\n",
    "To point the global variable at a different object, you are required to use the global keyword again:\n",
    "\n",
    "def change_global_variable():\n",
    "    global global_variable\n",
    "    global_variable = 'Bar'\n",
    "Note that after writing this function, the code actually changing it has still not run:\n",
    "\n",
    ">>> use_global_variable()\n",
    "'Foo!!!'\n",
    "So after calling the function:\n",
    "\n",
    ">>> change_global_variable()\n",
    "we can see that the global variable has been changed. The global_variable name now points to 'Bar':\n",
    "\n",
    ">>> use_global_variable()\n",
    "'Bar!!!'\n"
   ]
  },
  {
   "cell_type": "markdown",
   "metadata": {},
   "source": [
    "# 10. What is the data type of None?\n",
    "Ans: The None keyword is used to define a null value, or no value at all.\n",
    "None is not the same as 0, False, or an empty string. None is a data type of \n",
    "its own (NoneType) and only None can be None.\n",
    "\n"
   ]
  },
  {
   "cell_type": "code",
   "execution_count": null,
   "metadata": {},
   "outputs": [],
   "source": [
    "11. What does the sentence import areallyourpetsnamederic do?\n",
    "Ans: The import statement imports a module named areallyourpetsnamederic. \n",
    "    Place the line of code that might cause an error in a try clause. The code that could potentially cause an\n",
    "    error goes in the try clause. The code that executes if an error happens goes in the except clause."
   ]
  },
  {
   "cell_type": "code",
   "execution_count": null,
   "metadata": {},
   "outputs": [],
   "source": [
    "12. If you had a bacon() feature in a spam module, what would you call it after importing spam?\n",
    "Ans: If there is no return statement for a function, its return value is None. ... If you had a function named bacon() in a module named spam, \n",
    "how would you call it after importing spam? This function can be called with spam."
   ]
  },
  {
   "cell_type": "code",
   "execution_count": null,
   "metadata": {},
   "outputs": [],
   "source": [
    "14. What is the purpose of the try clause? What is the purpose of the except clause?\n",
    "Ans: In the try clause, all statements are executed until an exception is encountered. \n",
    "    except is used to catch and handle the exception(s) that are encountered in the try clause. else lets you code sections that \n",
    "    should run only when no exceptions are encountered in the try clause."
   ]
  },
  {
   "cell_type": "code",
   "execution_count": null,
   "metadata": {},
   "outputs": [],
   "source": []
  }
 ],
 "metadata": {
  "kernelspec": {
   "display_name": "Python 3",
   "language": "python",
   "name": "python3"
  },
  "language_info": {
   "codemirror_mode": {
    "name": "ipython",
    "version": 3
   },
   "file_extension": ".py",
   "mimetype": "text/x-python",
   "name": "python",
   "nbconvert_exporter": "python",
   "pygments_lexer": "ipython3",
   "version": "3.8.5"
  }
 },
 "nbformat": 4,
 "nbformat_minor": 4
}
