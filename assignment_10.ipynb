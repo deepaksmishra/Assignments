{
 "cells": [
  {
   "cell_type": "code",
   "execution_count": null,
   "metadata": {},
   "outputs": [],
   "source": [
    "1. How do you distinguish between shutil.copy() and shutil.copytree()?\n",
    " ans : \n",
    "copy() will copy a single file, shutil. \n",
    "copytree() will copy an entire folder and every folder and file contained in it.\n",
    "Calling shutil. copytree( source, destination ) will copy the folder at the path source , \n",
    "along with all of its files and subfolders, to the folder at the path destination ."
   ]
  },
  {
   "cell_type": "code",
   "execution_count": null,
   "metadata": {},
   "outputs": [],
   "source": [
    "2. What function is used to rename files??\n",
    "Ans : rename() function is used to change the name of the file or directory \n",
    "    i.e. from old_name to new_name without changing the content present in the file. \n",
    "    This function takes name of the file as its argument.\n"
   ]
  },
  {
   "cell_type": "code",
   "execution_count": null,
   "metadata": {},
   "outputs": [],
   "source": [
    "3. What is the difference between the delete functions in the send2trash and shutil modules?\n",
    "Ans :\n",
    "delete a single file or a single empty folder with functions in the os module,\n",
    "whereas to delete a folder and all of its contents, you use the shutil module.\n",
    "unlink( path ) will delete the file at path . Calling os. rmdir( path ) will delete the folder at path .\n",
    "\n"
   ]
  },
  {
   "cell_type": "code",
   "execution_count": null,
   "metadata": {},
   "outputs": [],
   "source": [
    "4.ZipFile objects have a close() method just like File objects’ close() method. What ZipFile method is \n",
    "equivalent to File objects’ open() method?\n",
    "Ans :To create your own compressed ZIP files, you must open the ZipFile object in write mode by passing 'w' as the second argument. \n",
    "    (This is similar to opening a text file in write mode by passing 'w' to the open() function. This code will create a new ZIP file named new. zip that has the compressed contents of spam.\n"
   ]
  },
  {
   "cell_type": "code",
   "execution_count": null,
   "metadata": {},
   "outputs": [],
   "source": [
    "5. Create a programme that searches a folder tree for files with a certain file extension (such as .pdf \n",
    "or .jpg). Copy these files from whatever location they are in to a new folder.\n",
    "ans :-import os, shutil\n",
    "\n",
    "def selectiveCopy(folder, extensions, destFolder):\n",
    "    folder = os.path.abspath(folder)\n",
    "    destFolder = os.path.abspath(destFolder)\n",
    "    print('Looking in', folder, 'for files with extensions of', ', '.join(extensions))\n",
    "    for foldername, subfolders, filenames in os.walk(folder):\n",
    "        for filename in filenames:\n",
    "            name, extension = os.path.splitext(filename)\n",
    "            if extension in extensions:\n",
    "                fileAbsPath = foldername + os.path.sep + filename\n",
    "                print('Coping', fileAbsPath, 'to', destFolder)\n",
    "                shutil.copy(fileAbsPath, destFolder)\n",
    "\n",
    "extensions = ['.php', '.py']\n",
    "folder = 'randomFolder'\n",
    "destFolder = 'selectiveFolder'\n",
    "selectiveCopy(folder, extensions, destFolder)"
   ]
  }
 ],
 "metadata": {
  "kernelspec": {
   "display_name": "Python 3",
   "language": "python",
   "name": "python3"
  },
  "language_info": {
   "codemirror_mode": {
    "name": "ipython",
    "version": 3
   },
   "file_extension": ".py",
   "mimetype": "text/x-python",
   "name": "python",
   "nbconvert_exporter": "python",
   "pygments_lexer": "ipython3",
   "version": "3.8.5"
  }
 },
 "nbformat": 4,
 "nbformat_minor": 4
}
