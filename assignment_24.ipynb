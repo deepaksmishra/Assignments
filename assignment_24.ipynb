{
 "cells": [
  {
   "cell_type": "code",
   "execution_count": null,
   "metadata": {},
   "outputs": [],
   "source": [
    "1. What is the relationship between def statements and lambda expressions ?\n",
    "Ans: \n",
    "the def keyword to create a function that returns the sum of two numbers, and then we will write it as a lambda expression: As we can see, if we want \n",
    "our function to have multiple parameters in a lambda expression, we would just separate those parameters by a comma."
   ]
  },
  {
   "cell_type": "code",
   "execution_count": null,
   "metadata": {},
   "outputs": [],
   "source": [
    "2. What is the benefit of lambda?\n",
    "Ans: \n",
    "    The lambda keyword in Python provides a shortcut for declaring\n",
    "    small anonymous functions. Lambda functions behave just like regular functions declared with the def keyword. \n",
    "    They can be used whenever function objects are required.\n",
    "\n"
   ]
  },
  {
   "cell_type": "code",
   "execution_count": null,
   "metadata": {},
   "outputs": [],
   "source": [
    "3. Compare and contrast map, filter, and reduce.\n",
    "Ans: reduce() works differently than map() and filter() . It does not return a new list based on the function and iterable we've passed. Instead, it returns a single value. Also, in Python 3 reduce()\n",
    "isn't a built-in function anymore, and it can be found in the functools module.\n",
    "    \n"
   ]
  },
  {
   "cell_type": "code",
   "execution_count": null,
   "metadata": {},
   "outputs": [],
   "source": [
    "4. What are function annotations, and how are they used?\n",
    "Ans: \n",
    "    Function annotations provide a way of associating various parts of a function with arbitrary python expressions at compile time. The PEP-3107 makes no attempt to introduce any \n",
    "    kind of standard semantics, even for the built-in types. All this work left to the third-party libraries\n"
   ]
  },
  {
   "cell_type": "code",
   "execution_count": null,
   "metadata": {},
   "outputs": [],
   "source": [
    "5. What are recursive functions, and how are they used?\n",
    "Ans: \n",
    "    A recursive function is a function that calls itself during its execution. \n",
    "    The process may repeat several times, outputting the result and the end of each iteration. The function Count() \n",
    "    below uses recursion to count from any number between 1 and 9, to the number 10\n"
   ]
  },
  {
   "cell_type": "code",
   "execution_count": null,
   "metadata": {},
   "outputs": [],
   "source": [
    "6. What are some general design guidelines for coding functions?\n",
    "Ans: Use 4-space indentation and no tabs ,  Use docstrings , Wrap lines so that they don’t exceed 79 characters,  Use of regular and updated comments are valuable to both the coders and users,\n",
    "     Use of trailing commas, Naming Conventions\n",
    "    \n"
   ]
  },
  {
   "cell_type": "code",
   "execution_count": null,
   "metadata": {},
   "outputs": [],
   "source": [
    "7. Name three or more ways that functions can communicate results to a caller.\n",
    "Ans:  (*args)  , Function_name(para1 ... para n) ,(**kwargs)"
   ]
  }
 ],
 "metadata": {
  "kernelspec": {
   "display_name": "Python 3",
   "language": "python",
   "name": "python3"
  },
  "language_info": {
   "codemirror_mode": {
    "name": "ipython",
    "version": 3
   },
   "file_extension": ".py",
   "mimetype": "text/x-python",
   "name": "python",
   "nbconvert_exporter": "python",
   "pygments_lexer": "ipython3",
   "version": "3.8.5"
  }
 },
 "nbformat": 4,
 "nbformat_minor": 4
}
