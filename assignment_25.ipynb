{
 "cells": [
  {
   "cell_type": "code",
   "execution_count": null,
   "metadata": {},
   "outputs": [],
   "source": [
    "1)What is the difference between enclosing a list comprehension in square brackets and parentheses?\n",
    "Ans: A List Comprehension, just like the plain range function, executes immediately and returns a list.\n",
    "    The difference between the two kinds of expressions is that the List comprehension\n",
    "    is enclosed in square brackets [] while the Generator expression is enclosed in plain parentheses ().\n"
   ]
  },
  {
   "cell_type": "code",
   "execution_count": null,
   "metadata": {},
   "outputs": [],
   "source": [
    "2) What is the relationship between generators and iterators?\n",
    "Ans: \n",
    "Iterators are used mostly to iterate or convert other objects to an iterator using iter() function.\n",
    "Generators are mostly used in loops to generate an iterator by returning all the values in the loop without affecting the iteration of the loop\n"
   ]
  },
  {
   "cell_type": "code",
   "execution_count": null,
   "metadata": {},
   "outputs": [],
   "source": [
    "3) What are the signs that a function is a generator function?\n",
    "Ans: Python provides a generator to create your own iterator function. A generator is a special type of function which does not return a single value, instead, it returns an iterator object with a sequence of values.\n",
    "In a generator function, a yield statement is used rather than a return statement.\n"
   ]
  },
  {
   "cell_type": "code",
   "execution_count": null,
   "metadata": {},
   "outputs": [],
   "source": [
    "4) What is the purpose of a yield statement?\n",
    "Ans:The yield statement suspends the function's execution and sends a value back to the caller, but retains enough state to enable the function to resume where it is left off. When resumed, \n",
    "    the function continues the execution immediately after the last yield run.\n",
    "\n"
   ]
  },
  {
   "cell_type": "code",
   "execution_count": null,
   "metadata": {},
   "outputs": [],
   "source": [
    "5) What is the relationship between map calls and list comprehensions? Make a comparison and contrast between the two.\n",
    "Ans: List comprehension is more concise and easier to read as compared to map.\n",
    "    List comprehension are used when a list of results is required as map only returns a map object and does not return any list. Map is faster in case of calling an already defined function (as no lambda is required)\n",
    "    \n",
    "    "
   ]
  }
 ],
 "metadata": {
  "kernelspec": {
   "display_name": "Python 3",
   "language": "python",
   "name": "python3"
  },
  "language_info": {
   "codemirror_mode": {
    "name": "ipython",
    "version": 3
   },
   "file_extension": ".py",
   "mimetype": "text/x-python",
   "name": "python",
   "nbconvert_exporter": "python",
   "pygments_lexer": "ipython3",
   "version": "3.8.5"
  }
 },
 "nbformat": 4,
 "nbformat_minor": 4
}
